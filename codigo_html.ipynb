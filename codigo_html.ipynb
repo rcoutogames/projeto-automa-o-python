{
 "cells": [
  {
   "cell_type": "code",
   "execution_count": null,
   "id": "c0b8bd1b",
   "metadata": {},
   "outputs": [],
   "source": [
    "\n",
    "# 2 - Faça um Programa que peça um número e então mostre a mensagem O número informado foi [número].\n",
    "# 3 - Faça um Programa que peça dois números e imprima a soma.\n",
    "# 4 - Faça um Programa que peça as 4 notas bimestrais e mostre a média.\n",
    "# 5 - Faça um Programa que converta metros para centímetros.\n",
    "# 6 - Faça um Programa que peça o raio de um círculo, calcule e mostre sua área.\n",
    "# 7 - Faça um Programa que calcule a área de um quadrado, em seguida mostre o dobro desta área para o usuário.\n",
    "# 8 - Faça um Programa que pergunte quanto você ganha por hora e o número de horas trabalhadas no mês. Calcule e mostre o total do seu salário no referido mês.\n",
    "# 9 - Faça um Programa que peça a temperatura em graus Fahrenheit, transforme e mostre a temperatura em graus Celsius.C = 5 * ((F-32) / 9).\n",
    "# 10 - Faça um Programa que peça a temperatura em graus Celsius, transforme e mostre em graus Fahrenheit.\n",
    "# 11 - Faça um Programa que peça 2 números inteiros e um número real. Calcule e mostre:\n",
    "o produto do dobro \u0016do primeiro com metade do segundo .a soma do triplo do primeiro com o terceiro.o terceiro elevado ao cubo.\n",
    "# 12 - Tendo como dados de entrada a altura de uma pessoa, construa um algoritmo que calcule seu peso ideal, usando a seguinte fórmula: (72.7*altura) - 58\n",
    "# 13 - Tendo como dado de entrada a altura (h) de uma pessoa, construa um algoritmo que calcule seu peso ideal, utilizando as seguintes fórmulas:\n",
    "Para homens: (72.7*h) - 58\n",
    "Para mulheres: (62.1*h) - 44.7\n",
    "# 14 - João Papo-de-Pescador, homem de bem, comprou um microcomputador para controlar o rendimento diário de seu trabalho. Toda vez que ele traz um peso de peixes maior que o estabelecido pelo regulamento de pesca do estado de São Paulo (50 quilos) deve pagar uma multa de R$ 4,00 por quilo excedente. João precisa que você faça um programa que leia a variável peso (peso de peixes) e calcule o excesso. Gravar na variável excesso a quantidade de quilos além do limite e na variável multa o valor da multa que João deverá pagar. Imprima os dados do programa com as mensagens adequadas.\n",
    "# 15 - Faça um Programa que pergunte quanto você ganha por hora e o número de horas trabalhadas no mês. Calcule e mostre o total do seu salário no referido mês, sabendo-se que são descontados 11% para o Imposto de Renda, 8% para o INSS e 5% para o sindicato, faça um programa que nos dê:\n",
    "salário bruto.\n",
    "quanto pagou ao INSS.\n",
    "quanto pagou ao sindicato.\n",
    "o salário líquido.\n",
    "calcule os descontos e o salário líquido, conforme a tabela abaixo:\n",
    "+ Salário Bruto : R$\n",
    "- IR (11%) : R$\n",
    "- INSS (8%) : R$\n",
    "- Sindicato ( 5%) : R$\n",
    "= Salário Liquido : R$\n",
    "Obs.: Salário Bruto - Descontos = Salário Líquido.\n",
    "# 16 - Faça um programa para uma loja de tintas. O programa deverá pedir o tamanho em metros quadrados da área a ser pintada. Considere que a cobertura da tinta é de 1 litro para cada 3 metros quadrados e que a tinta é vendida em latas de 18 litros, que custam R$ 80,00. Informe ao usuário a quantidades de latas de tinta a serem compradas e o preço total.\n",
    "# 17 - Faça um Programa para uma loja de tintas. O programa deverá pedir o tamanho em metros quadrados da área a ser pintada. Considere que a cobertura da tinta é de 1 litro para cada 6 metros quadrados e que a tinta é vendida em latas de 18 litros, que custam R$ 80,00 ou em galões de 3,6 litros, que custam R$ 25,00.\n",
    "# 18 - Informe ao usuário as quantidades de tinta a serem compradas e os respectivos preços em 3 situações:\n",
    "# 19 - comprar apenas latas de 18 litros;\n",
    "# 20 - comprar apenas galões de 3,6 litros;\n",
    "misturar latas e galões, de forma que o desperdício de tinta seja menor. Acrescente 10% de folga e sempre arredonde os valores para cima, isto é, considere latas cheias.\n",
    "Faça um programa que peça o tamanho de um arquivo para download (em MB) e a velocidade de um link de Internet (em Mbps), calcule e informe o tempo aproximado de download do arquivo usando este link (em minutos)."
   ]
  },
  {
   "cell_type": "code",
   "execution_count": 7,
   "id": "5e4f0add",
   "metadata": {},
   "outputs": [
    {
     "data": {
      "text/plain": [
       "'Alo Mundo'"
      ]
     },
     "metadata": {},
     "output_type": "display_data"
    }
   ],
   "source": [
    "# 1 - Faça um Programa que mostre a mensagem \"Alo mundo\" na tela.\n",
    "# abri um editor de texto\n",
    "# escrever um codigo html no quqal ele salve o programa e rode \n",
    "\n",
    "print = \"Alo Mundo\"\n",
    "display(print)"
   ]
  },
  {
   "cell_type": "code",
   "execution_count": 6,
   "id": "f6c0b5ed",
   "metadata": {},
   "outputs": [],
   "source": [
    "#abrir o textpad\n",
    "\n",
    "import pyautogui\n",
    "import time\n",
    "\n",
    "pyautogui.PAUSE = 1\n",
    "\n",
    "pyautogui.hotkey(\"win\")\n",
    "pyautogui.write(\"textpad\")\n",
    "pyautogui.press(\"enter\")\n",
    "\n",
    "time.sleep(5)\n",
    "\n",
    "pyautogui.write(\"<!DOCTYPE html>\")\n",
    "pyautogui.press(\"enter\")\n",
    "pyautogui.write(\"<html>\")\n",
    "pyautogui.press(\"enter\")\n",
    "pyautogui.write(\"<head>\")\n",
    "pyautogui.press(\"enter\")\n",
    "pyautogui.write(\"<title> Ola Mundo </title>\")\n",
    "pyautogui.press(\"enter\")\n",
    "pyautogui.write(\"</head>\")\n",
    "pyautogui.press(\"enter\")\n",
    "pyautogui.write(\"<body> Ola Mundo </body>\")\n",
    "pyautogui.press(\"enter\")\n",
    "pyautogui.write(\"</html>\")\n",
    "pyautogui.click(x=1019, y=42)\n",
    "time.sleep(5)\n",
    "pyautogui.click(x=1069, y=180)\n",
    "time.sleep(5)\n",
    "pyautogui.write(\"teste.html\")\n",
    "time.sleep(5)\n",
    "pyautogui.click(x=1757, y=649)\n",
    "\n",
    "pyautogui.hotkey(\"win\", \"e\")\n",
    "time.sleep(5)\n",
    "pyautogui.click(x=878, y=332)\n",
    "time.sleep(5)\n",
    "pyautogui.click(x=1116, y=303)\n",
    "pyautogui.press(\"enter\")"
   ]
  },
  {
   "cell_type": "code",
   "execution_count": 3,
   "id": "f64498b1",
   "metadata": {},
   "outputs": [],
   "source": [
    "pyautogui.click(x=973, y=426)"
   ]
  },
  {
   "cell_type": "code",
   "execution_count": 5,
   "id": "8a478206",
   "metadata": {},
   "outputs": [
    {
     "name": "stdout",
     "output_type": "stream",
     "text": [
      "Point(x=902, y=388)\n"
     ]
    }
   ],
   "source": [
    "import pyautogui\n",
    "import time\n",
    "\n",
    "\n",
    "time.sleep(10)\n",
    "print(pyautogui.position())"
   ]
  },
  {
   "cell_type": "code",
   "execution_count": null,
   "id": "fce33bad",
   "metadata": {},
   "outputs": [],
   "source": [
    "#rodar o programa"
   ]
  }
 ],
 "metadata": {
  "kernelspec": {
   "display_name": "Python 3 (ipykernel)",
   "language": "python",
   "name": "python3"
  },
  "language_info": {
   "codemirror_mode": {
    "name": "ipython",
    "version": 3
   },
   "file_extension": ".py",
   "mimetype": "text/x-python",
   "name": "python",
   "nbconvert_exporter": "python",
   "pygments_lexer": "ipython3",
   "version": "3.9.13"
  }
 },
 "nbformat": 4,
 "nbformat_minor": 5
}
